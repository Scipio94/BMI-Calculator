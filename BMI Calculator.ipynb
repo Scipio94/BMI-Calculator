{
 "cells": [
  {
   "cell_type": "markdown",
   "id": "3ea70b93",
   "metadata": {},
   "source": [
    "# BMI Calculator\n",
    "\n",
    "#### BMI Formula\n",
    "\n",
    "BMI = (Weight in pounds * 703)/ (height in inches * height in inches)\n",
    "\n",
    "#### BMI Categories\n",
    "\n",
    "|BMI|Classification|\n",
    "|---|---|\n",
    "|Under 18.5|Underweight|\n",
    "|18.5 - 24.9|Normal Weight|\n",
    "|25 - 29.9|Overweight|\n",
    "|30 - 34.9|Obese|\n",
    "|35 - 39.9|Severely Obese|\n",
    "|40 and over|Morbidly Obese|"
   ]
  },
  {
   "cell_type": "code",
   "execution_count": 17,
   "id": "08c1f573",
   "metadata": {},
   "outputs": [
    {
     "name": "stdout",
     "output_type": "stream",
     "text": [
      "Enter your name: Tyrone \n",
      "Enter your weight in pounds: 205\n",
      "Enter your height in inches: 77\n",
      "BMI: 24.306797099004893\n",
      "Tyrone , you are normal weight.\n"
     ]
    }
   ],
   "source": [
    "name = input(\"Enter your name: \")\n",
    "\n",
    "#convert string to integer\n",
    "weight = int(input(\"Enter your weight in pounds: \"))\n",
    "\n",
    "#convert string to integer\n",
    "height = int(input(\"Enter your height in inches: \"))\n",
    "\n",
    "BMI = (weight * 703)/(height * height)\n",
    "\n",
    "print('BMI:', BMI)\n",
    "\n",
    "if BMI>0:\n",
    "    if (BMI<18.5):\n",
    "        print(name + \", you are underweight.\")\n",
    "    elif (BMI<=24.9):\n",
    "        print(name + \", you are normal weight.\")\n",
    "    elif (BMI<=29.9):\n",
    "        print(name + \", you are overweight.\")\n",
    "    elif (BMI<=34.9):\n",
    "        print(name + \", you are obese.\")\n",
    "    elif (BMI<=39.9):\n",
    "        print(name + \", you are severely obese.\")\n",
    "    else:\n",
    "        print(name + \", you are morbidly obese.\")\n",
    "else:\n",
    "    print(\"Enter valid input\")"
   ]
  }
 ],
 "metadata": {
  "kernelspec": {
   "display_name": "Python 3 (ipykernel)",
   "language": "python",
   "name": "python3"
  },
  "language_info": {
   "codemirror_mode": {
    "name": "ipython",
    "version": 3
   },
   "file_extension": ".py",
   "mimetype": "text/x-python",
   "name": "python",
   "nbconvert_exporter": "python",
   "pygments_lexer": "ipython3",
   "version": "3.10.9"
  }
 },
 "nbformat": 4,
 "nbformat_minor": 5
}
